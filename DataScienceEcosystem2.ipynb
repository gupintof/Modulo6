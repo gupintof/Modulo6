{
  "metadata": {
    "kernelspec": {
      "name": "python",
      "display_name": "Python (Pyodide)",
      "language": "python"
    },
    "language_info": {
      "codemirror_mode": {
        "name": "python",
        "version": 3
      },
      "file_extension": ".py",
      "mimetype": "text/x-python",
      "name": "python",
      "nbconvert_exporter": "python",
      "pygments_lexer": "ipython3",
      "version": "3.8"
    }
  },
  "nbformat_minor": 5,
  "nbformat": 4,
  "cells": [
    {
      "id": "3728590b-cd90-4b5f-b0dc-a7bad021109e",
      "cell_type": "markdown",
      "source": "# Data Science Tools and Ecosystem",
      "metadata": {}
    },
    {
      "id": "b530af2f-6530-4fcb-b1f4-465ba9498c76",
      "cell_type": "markdown",
      "source": "## Author\nGUILLERMO PINTO F.",
      "metadata": {}
    },
    {
      "id": "9e366277-7096-41f6-9850-ccc07275a9ca",
      "cell_type": "markdown",
      "source": "In this notebook, Data Science Tools and Ecosystem are summarized.",
      "metadata": {}
    },
    {
      "id": "2fb60eef-a78e-4e8d-bf68-532f8586f788",
      "cell_type": "markdown",
      "source": "**Objectives:**\n\n- List popular languages for Data Science.     \n- Explain the basics of Python syntax.  \n- Perform basic arithmetic operations in Python.\n- Convert time values (e.g., minutes to hours).\n- Understand the use of Markdown in Jupyter Notebooks.",
      "metadata": {}
    },
    {
      "id": "253947fb-8a2a-4b04-8294-ebdc525e3fc8",
      "cell_type": "markdown",
      "source": "Some of the popular languages that Data Scientists use are:\n1. Julia, \n2. Python, \n3. R, \n4. SQL",
      "metadata": {}
    },
    {
      "id": "4e746aee-317c-410b-ab1b-5946b82a761e",
      "cell_type": "markdown",
      "source": "Some of the commonly used libraries used by Data Scientists include: \n\n1.Panda,  \n2. SciKitlearn,   \n3. Keras  ",
      "metadata": {}
    },
    {
      "id": "64d509ea-d8ae-4c63-9e5e-2f6034c0307a",
      "cell_type": "markdown",
      "source": "Data Science Tools:  \n1. Jupyter Notebooks,\n2. Github,  3.\n3. Rstudio",
      "metadata": {}
    },
    {
      "id": "5f2e041f-6aa1-404b-ac56-b3e0479fd07c",
      "cell_type": "markdown",
      "source": "### Below are a few examples of evaluating arithmetic expressions in Python",
      "metadata": {}
    },
    {
      "id": "0bc75eb9-e20d-49ff-8583-c9fa3273f726",
      "cell_type": "code",
      "source": "# This a simple arithmetic expression to mutiply then add integers\nexp=(3*4)+5\nprint(exp)",
      "metadata": {
        "trusted": true
      },
      "outputs": [
        {
          "name": "stdout",
          "output_type": "stream",
          "text": "17\n"
        }
      ],
      "execution_count": 1
    },
    {
      "id": "8bf17bf5-b8e5-4221-b04b-515908c4aec5",
      "cell_type": "code",
      "source": "# his will convert 200 minutes to hours by diving by 60\nhoras = 200 / 60\nprint(horas)",
      "metadata": {
        "trusted": true
      },
      "outputs": [
        {
          "name": "stdout",
          "output_type": "stream",
          "text": "3.3333333333333335\n"
        }
      ],
      "execution_count": 2
    },
    {
      "id": "8692b99e-86d9-478f-9b83-2ac377788ebb",
      "cell_type": "code",
      "source": "",
      "metadata": {
        "trusted": true
      },
      "outputs": [],
      "execution_count": null
    }
  ]
}