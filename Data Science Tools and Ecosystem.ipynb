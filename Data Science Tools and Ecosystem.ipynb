{
  "metadata": {
    "kernelspec": {
      "name": "python",
      "display_name": "Python (Pyodide)",
      "language": "python"
    },
    "language_info": {
      "codemirror_mode": {
        "name": "python",
        "version": 3
      },
      "file_extension": ".py",
      "mimetype": "text/x-python",
      "name": "python",
      "nbconvert_exporter": "python",
      "pygments_lexer": "ipython3",
      "version": "3.8"
    }
  },
  "nbformat_minor": 5,
  "nbformat": 4,
  "cells": [
    {
      "id": "5bd9dec9-72a6-491e-a2a8-6129bca5ba3c",
      "cell_type": "markdown",
      "source": "Data Science Tools and Ecosystem",
      "metadata": {}
    },
    {
      "id": "3ed4e0c8-1612-4113-9bb4-4caff6ad99a6",
      "cell_type": "markdown",
      "source": "## Author\nGUILLERMO PINTO F.",
      "metadata": {}
    },
    {
      "id": "39b43b9f-ed1d-4009-829e-9679c472221f",
      "cell_type": "markdown",
      "source": "In this notebook, Data Science Tools and Ecosystem are summarized.",
      "metadata": {}
    },
    {
      "id": "6c145d61-4374-442e-a381-df2dce89c658",
      "cell_type": "markdown",
      "source": "**Objectives:**\n- List popular languages for Data Science.\n- Explain the basics of Python syntax.\n- Perform basic arithmetic operations in Python.\n- Convert time values (e.g., minutes to hours).\n- Understand the use of Markdown in Jupyter Notebooks.",
      "metadata": {}
    },
    {
      "id": "082a084b-a392-4e0f-8f78-3516bec01058",
      "cell_type": "markdown",
      "source": "Some of the popular languages that Data Scientists use are:",
      "metadata": {}
    },
    {
      "id": "1d8958c5-b481-4147-891d-0e9ab297a78b",
      "cell_type": "markdown",
      "source": "    Julia, Python, R, SQL",
      "metadata": {}
    },
    {
      "id": "d7636b58-0e32-4089-a04f-391639975ba5",
      "cell_type": "markdown",
      "source": "Data Science Tools\nJupyter Notebooks\nGithub\nRstudio",
      "metadata": {}
    },
    {
      "id": "9803d87d-125c-4c0f-a893-f48651905c33",
      "cell_type": "markdown",
      "source": "### Below are a few examples of evaluating arithmetic expressions in Python",
      "metadata": {}
    },
    {
      "id": "31e674fb-c8f6-4046-9dff-f3e5b2539640",
      "cell_type": "code",
      "source": "exp=(3*4)+5\n# This a simple arithmetic expression to mutiply then add integers\nprint(exp)",
      "metadata": {
        "trusted": true
      },
      "outputs": [
        {
          "name": "stdout",
          "output_type": "stream",
          "text": "17\n"
        }
      ],
      "execution_count": 10
    },
    {
      "id": "7f038f09-857c-4863-b86e-2244828b52a8",
      "cell_type": "code",
      "source": "horas = 200 / 60\n# his will convert 200 minutes to hours by diving by 60\nprint(horas)",
      "metadata": {
        "trusted": true
      },
      "outputs": [
        {
          "name": "stdout",
          "output_type": "stream",
          "text": "3.3333333333333335\n"
        }
      ],
      "execution_count": 11
    },
    {
      "id": "c71b349c-4914-4e6b-b529-90abfe3ec41e",
      "cell_type": "code",
      "source": "",
      "metadata": {
        "trusted": true
      },
      "outputs": [],
      "execution_count": null
    }
  ]
}